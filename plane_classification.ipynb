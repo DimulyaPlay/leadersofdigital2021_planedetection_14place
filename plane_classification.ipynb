{
  "nbformat": 4,
  "nbformat_minor": 0,
  "metadata": {
    "colab": {
      "name": "plane_classification.ipynb",
      "provenance": [],
      "collapsed_sections": [
        "VwJfJiMZTblM"
      ]
    },
    "kernelspec": {
      "name": "python3",
      "display_name": "Python 3"
    },
    "language_info": {
      "name": "python"
    },
    "accelerator": "GPU"
  },
  "cells": [
    {
      "cell_type": "code",
      "metadata": {
        "id": "uIHojgyf5Upy"
      },
      "source": [
        "import os\n",
        "import random\n",
        "from time import time\n",
        "import pickle\n",
        "from tqdm import tqdm\n",
        "import numpy as np\n",
        "import pandas as pd\n",
        "import matplotlib.pyplot as plt\n",
        "from PIL import Image, ImageOps, ImageEnhance\n",
        "from tensorflow.keras.layers import Dense, Input, Flatten, Conv2D\n",
        "from tensorflow.keras.layers import Dropout, BatchNormalization, LeakyReLU, concatenate, Activation, Add, Conv2DTranspose, Concatenate\n",
        "from tensorflow.keras.models import Model\n",
        "from tensorflow.keras.optimizers import Adam\n",
        "from tensorflow.keras.preprocessing.image import ImageDataGenerator\n",
        "import tensorflow as tf\n",
        "import gdown\n",
        "os.environ['TF_ENABLE_AUTO_MIXED_PRECISION'] = '1'\n",
        "\n",
        "from IPython.display import clear_output\n",
        "def open_png_or_jpeg(filepath):\n",
        "  try:\n",
        "    img = Image.open(filepath + '.png')\n",
        "  except:\n",
        "    img = Image.open(filepath + '.jpeg')\n",
        "  return img\n"
      ],
      "execution_count": 1,
      "outputs": []
    },
    {
      "cell_type": "code",
      "metadata": {
        "id": "454CcqbaxxQ-"
      },
      "source": [
        "\"\"\"\"\"\n",
        "COLAB\n",
        "\"\"\"\"\"\n",
        "gdown.download('https://cups.mail.ru/media/tasks/round_622/task_1089/15d655a4e56991fdc78b0923c59c2183', 'sample_submission.csv', True)\n",
        "gdown.download('https://cups.mail.ru/media/tasks/round_622/task_1089/15d655a4e56991fdc78b0923c59c2183_9lYnJHK', 'train.csv', True)\n",
        "gdown.download('https://cups.mail.ru/media/tasks/round_622/task_1089/15d655a4e56991fdc78b0923c59c2183_6oHvy5X', 'avia-test.zip', True)\n",
        "gdown.download('https://cups.mail.ru/media/tasks/round_622/task_1089/15d655a4e56991fdc78b0923c59c2183_iP4xUuJ', 'avia-train.zip', True)\n",
        "!unzip -q 'avia-test.zip'\n",
        "!unzip -q 'avia-train.zip'\n",
        "\n",
        "\n",
        "df_train = pd.read_csv('train.csv')                                 ## train csv path\n",
        "df_test = pd.read_csv('sample_submission.csv')                      ## test ext csv\n",
        "avia_train = '/content/avia-train/'                                 ## train folder path\n",
        "avia_test = '/content/avia-test/'                                   ## test folder path"
      ],
      "execution_count": 2,
      "outputs": []
    },
    {
      "cell_type": "code",
      "metadata": {
        "id": "__To6sHV7UZP"
      },
      "source": [
        "df_train['fullfilename'] = df_train.filename + '.png'\n",
        "df_train = df_train.dropna()\n",
        "\n",
        "contrast = 87  # 87,8,12,59,0,1,6,77,11,96 best 5 by val_auc\n",
        "\n",
        "METRICS = [\n",
        "      tf.keras.metrics.FalsePositives(name='fp'),\n",
        "      tf.keras.metrics.FalseNegatives(name='fn'), \n",
        "      tf.keras.metrics.AUC(name='auc'),]"
      ],
      "execution_count": 3,
      "outputs": []
    },
    {
      "cell_type": "code",
      "metadata": {
        "id": "3yjRBY3H-1hY",
        "colab": {
          "base_uri": "https://localhost:8080/"
        },
        "outputId": "1d1a7087-f89e-4300-f2f2-b90bf0dee47a"
      },
      "source": [
        "x_train = np.array([np.asarray(ImageOps.autocontrast(Image.open(avia_train+i).convert('RGB'), contrast))/255 for i in tqdm(df_train.fullfilename)])\n",
        "y_train = np.array([i for i in df_train.sign]).reshape((-1,1))\n",
        "\n",
        "#для аугментатора / база из чистых самолетов\n",
        "df_train_planes = df_train.loc[df_train.sign == 1]\n",
        "x_train_planes = np.array([np.asarray(ImageOps.autocontrast(Image.open(avia_train+i).convert('RGB'), contrast))/255 for i in df_train_planes.fullfilename])\n",
        "y_train_planes = np.array([i for i in df_train_planes.sign]).reshape((-1,1))\n",
        "\n",
        "x_train.shape, y_train.shape, np.where(y_train==0)[0].shape, np.where(y_train==1)[0].shape "
      ],
      "execution_count": 4,
      "outputs": [
        {
          "output_type": "stream",
          "name": "stderr",
          "text": [
            "100%|██████████| 31080/31080 [00:23<00:00, 1317.07it/s]\n"
          ]
        },
        {
          "output_type": "execute_result",
          "data": {
            "text/plain": [
              "((31080, 20, 20, 3), (31080, 1), (23181,), (7899,))"
            ]
          },
          "metadata": {},
          "execution_count": 4
        }
      ]
    },
    {
      "cell_type": "markdown",
      "metadata": {
        "id": "hjdNCI2O2bbW"
      },
      "source": [
        "# аугментация\n"
      ]
    },
    {
      "cell_type": "code",
      "metadata": {
        "colab": {
          "base_uri": "https://localhost:8080/"
        },
        "id": "HRkEG5kYeGVj",
        "outputId": "b052ea44-5102-4b8d-b883-f9897994ba09"
      },
      "source": [
        "for i in range(2):\n",
        "  generator = ImageDataGenerator(horizontal_flip=True, vertical_flip=True)\n",
        "  augment_images = generator.flow(x_train_planes, batch_size=7899)\n",
        "  aug_x = augment_images.next()\n",
        "  aug_y = np.ones((7899,1))\n",
        "  x_train = np.append(x_train, aug_x, axis=0)\n",
        "  y_train = np.append(y_train, aug_y, axis=0)\n",
        "  aug_x.shape, aug_y.shape, x_train.shape, y_train.shape, np.where(y_train==0)[0].shape, np.where(y_train==1)[0].shape"
      ],
      "execution_count": 6,
      "outputs": [
        {
          "output_type": "execute_result",
          "data": {
            "text/plain": [
              "((7899, 20, 20, 3),\n",
              " (7899, 1),\n",
              " (46878, 20, 20, 3),\n",
              " (46878, 1),\n",
              " (23181,),\n",
              " (23697,))"
            ]
          },
          "metadata": {},
          "execution_count": 6
        }
      ]
    },
    {
      "cell_type": "markdown",
      "metadata": {
        "id": "wdk0ssZQB5dp"
      },
      "source": [
        "# convnet"
      ]
    },
    {
      "cell_type": "code",
      "metadata": {
        "id": "2uJv84P_8hSL"
      },
      "source": [
        "def create_model():\n",
        "  x_input = Input(shape=(20,20,3), name='x_input')\n",
        "  x = Conv2D(filters=32, kernel_size=3, padding='same', activation='relu', name='conv_1_1')(x_input)\n",
        "  x = Conv2D(filters=32, kernel_size=3, padding='same', activation='relu', name='conv_1_2')(x)\n",
        "  x = Conv2D(filters=32, kernel_size=5, strides=2, padding='same', activation='relu', name='conv_1_3')(x)\n",
        "  x = Dropout(0.1)(x)\n",
        "  x_1 = Flatten(name='flatten_1')(x)\n",
        "\n",
        "  x = Conv2D(filters=64, kernel_size=3, padding='same', activation='relu', name='conv_2_1')(x)\n",
        "  x = BatchNormalization(name='batch_normalization_2_1')(x)\n",
        "  x = Conv2D(filters=64, kernel_size=3, padding='same', activation='relu', name='conv_2_2')(x)\n",
        "  x = BatchNormalization(name='batch_normalization_2_2')(x)\n",
        "  x = Conv2D(filters=64, kernel_size=5, strides=2, padding='same', activation='relu', name='conv_2_3')(x)\n",
        "  x = BatchNormalization(name='batch_normalization_2_3')(x)\n",
        "  x = Dropout(0.1)(x)\n",
        "  x_2 = Flatten(name='flatten_2')(x)\n",
        "\n",
        "  x = Conv2D(filters=128, kernel_size=3, padding='same', activation='relu', name='conv_3_1')(x)\n",
        "  x = BatchNormalization(name='batch_normalization_3_1')(x)\n",
        "  x = Conv2D(filters=128, kernel_size=3, padding='same', activation='relu', name='conv_3_2')(x)\n",
        "  x = BatchNormalization(name='batch_normalization_3_2')(x)\n",
        "  x = Conv2D(filters=128, kernel_size=5, strides=2, padding='same', activation='relu', name='conv_3_3')(x)\n",
        "  x = BatchNormalization(name='batch_normalization_3_3')(x)\n",
        "  x = Dropout(0.1)(x)\n",
        "  x_3 = Flatten(name='flatten_3')(x)\n",
        "  x_conc = concatenate([x_1, x_2, x_3])\n",
        "  x = Dense(448, activation=\"relu\")(x_conc)\n",
        "  x = Dense(224, activation=\"relu\")(x)\n",
        "  x = BatchNormalization(name='batch_normalization_D')(x)\n",
        "  x_output = Dense(1, activation=\"sigmoid\")(x)\n",
        "  model = Model(inputs=x_input, outputs=x_output)\n",
        "  return model"
      ],
      "execution_count": 7,
      "outputs": []
    },
    {
      "cell_type": "markdown",
      "metadata": {
        "id": "VwJfJiMZTblM"
      },
      "source": [
        "# check contrast effect"
      ]
    },
    {
      "cell_type": "code",
      "metadata": {
        "id": "nOhMJuqr85ii"
      },
      "source": [
        "df = pd.DataFrame()\n",
        "for n in tqdm(range(100)):\n",
        "  x_train, y_train = np.array([np.asarray(ImageOps.autocontrast(Image.open(avia_train+i).convert('RGB'),  n ))/255 for i in df_train.fullfilename]), np.array([i for i in df_train.sign]).reshape((-1,1))\n",
        "  model = create_model()\n",
        "  model.compile(loss=\"binary_crossentropy\", optimizer = Adam(learning_rate=(0.001)), metrics=[METRICS])\n",
        "  history = model.fit(x_train, y_train, epochs=5, verbose=0, validation_split=0.3)\n",
        "  tail = pd.DataFrame(history.history).tail(1)\n",
        "  tail['contrast'] = n\n",
        "  df = df.append(tail)"
      ],
      "execution_count": null,
      "outputs": []
    },
    {
      "cell_type": "code",
      "metadata": {
        "colab": {
          "base_uri": "https://localhost:8080/",
          "height": 359
        },
        "id": "bXhSYvm2GVp7",
        "outputId": "b85b4d7e-a306-476b-cb1e-7f295136c915"
      },
      "source": [
        "df.sort_values('val_auc').tail(10) "
      ],
      "execution_count": null,
      "outputs": [
        {
          "output_type": "execute_result",
          "data": {
            "text/plain": [
              "       loss     fp     fn       auc  val_loss  val_fp  val_fn   val_auc  \\\n",
              "4  0.073790  162.0  143.0  0.996009  0.082354    26.0   124.0  0.995477   \n",
              "4  0.044066  104.0   85.0  0.998340  0.130016   222.0     6.0  0.995570   \n",
              "4  0.068305  149.0  130.0  0.996766  0.081014   107.0    39.0  0.995584   \n",
              "4  0.048956  113.0   90.0  0.998276  0.088862   137.0    20.0  0.995662   \n",
              "4  0.043598   92.0   72.0  0.998122  0.097909   146.0    20.0  0.995754   \n",
              "4  0.051579  116.0  103.0  0.997887  0.066977    53.0    70.0  0.995782   \n",
              "4  0.063103  144.0  127.0  0.997210  0.080819   126.0    23.0  0.996231   \n",
              "4  0.038670   86.0   74.0  0.998735  0.077280   113.0    25.0  0.996293   \n",
              "4  0.046362   92.0   79.0  0.998180  0.070437    80.0    25.0  0.996335   \n",
              "4  0.056099  119.0   95.0  0.997385  0.054287    47.0    54.0  0.997365   \n",
              "\n",
              "   contrast  \n",
              "4        96  \n",
              "4        11  \n",
              "4        77  \n",
              "4         6  \n",
              "4         1  \n",
              "4         0  \n",
              "4        59  \n",
              "4        12  \n",
              "4         8  \n",
              "4        87  "
            ],
            "text/html": [
              "<div>\n",
              "<style scoped>\n",
              "    .dataframe tbody tr th:only-of-type {\n",
              "        vertical-align: middle;\n",
              "    }\n",
              "\n",
              "    .dataframe tbody tr th {\n",
              "        vertical-align: top;\n",
              "    }\n",
              "\n",
              "    .dataframe thead th {\n",
              "        text-align: right;\n",
              "    }\n",
              "</style>\n",
              "<table border=\"1\" class=\"dataframe\">\n",
              "  <thead>\n",
              "    <tr style=\"text-align: right;\">\n",
              "      <th></th>\n",
              "      <th>loss</th>\n",
              "      <th>fp</th>\n",
              "      <th>fn</th>\n",
              "      <th>auc</th>\n",
              "      <th>val_loss</th>\n",
              "      <th>val_fp</th>\n",
              "      <th>val_fn</th>\n",
              "      <th>val_auc</th>\n",
              "      <th>contrast</th>\n",
              "    </tr>\n",
              "  </thead>\n",
              "  <tbody>\n",
              "    <tr>\n",
              "      <th>4</th>\n",
              "      <td>0.073790</td>\n",
              "      <td>162.0</td>\n",
              "      <td>143.0</td>\n",
              "      <td>0.996009</td>\n",
              "      <td>0.082354</td>\n",
              "      <td>26.0</td>\n",
              "      <td>124.0</td>\n",
              "      <td>0.995477</td>\n",
              "      <td>96</td>\n",
              "    </tr>\n",
              "    <tr>\n",
              "      <th>4</th>\n",
              "      <td>0.044066</td>\n",
              "      <td>104.0</td>\n",
              "      <td>85.0</td>\n",
              "      <td>0.998340</td>\n",
              "      <td>0.130016</td>\n",
              "      <td>222.0</td>\n",
              "      <td>6.0</td>\n",
              "      <td>0.995570</td>\n",
              "      <td>11</td>\n",
              "    </tr>\n",
              "    <tr>\n",
              "      <th>4</th>\n",
              "      <td>0.068305</td>\n",
              "      <td>149.0</td>\n",
              "      <td>130.0</td>\n",
              "      <td>0.996766</td>\n",
              "      <td>0.081014</td>\n",
              "      <td>107.0</td>\n",
              "      <td>39.0</td>\n",
              "      <td>0.995584</td>\n",
              "      <td>77</td>\n",
              "    </tr>\n",
              "    <tr>\n",
              "      <th>4</th>\n",
              "      <td>0.048956</td>\n",
              "      <td>113.0</td>\n",
              "      <td>90.0</td>\n",
              "      <td>0.998276</td>\n",
              "      <td>0.088862</td>\n",
              "      <td>137.0</td>\n",
              "      <td>20.0</td>\n",
              "      <td>0.995662</td>\n",
              "      <td>6</td>\n",
              "    </tr>\n",
              "    <tr>\n",
              "      <th>4</th>\n",
              "      <td>0.043598</td>\n",
              "      <td>92.0</td>\n",
              "      <td>72.0</td>\n",
              "      <td>0.998122</td>\n",
              "      <td>0.097909</td>\n",
              "      <td>146.0</td>\n",
              "      <td>20.0</td>\n",
              "      <td>0.995754</td>\n",
              "      <td>1</td>\n",
              "    </tr>\n",
              "    <tr>\n",
              "      <th>4</th>\n",
              "      <td>0.051579</td>\n",
              "      <td>116.0</td>\n",
              "      <td>103.0</td>\n",
              "      <td>0.997887</td>\n",
              "      <td>0.066977</td>\n",
              "      <td>53.0</td>\n",
              "      <td>70.0</td>\n",
              "      <td>0.995782</td>\n",
              "      <td>0</td>\n",
              "    </tr>\n",
              "    <tr>\n",
              "      <th>4</th>\n",
              "      <td>0.063103</td>\n",
              "      <td>144.0</td>\n",
              "      <td>127.0</td>\n",
              "      <td>0.997210</td>\n",
              "      <td>0.080819</td>\n",
              "      <td>126.0</td>\n",
              "      <td>23.0</td>\n",
              "      <td>0.996231</td>\n",
              "      <td>59</td>\n",
              "    </tr>\n",
              "    <tr>\n",
              "      <th>4</th>\n",
              "      <td>0.038670</td>\n",
              "      <td>86.0</td>\n",
              "      <td>74.0</td>\n",
              "      <td>0.998735</td>\n",
              "      <td>0.077280</td>\n",
              "      <td>113.0</td>\n",
              "      <td>25.0</td>\n",
              "      <td>0.996293</td>\n",
              "      <td>12</td>\n",
              "    </tr>\n",
              "    <tr>\n",
              "      <th>4</th>\n",
              "      <td>0.046362</td>\n",
              "      <td>92.0</td>\n",
              "      <td>79.0</td>\n",
              "      <td>0.998180</td>\n",
              "      <td>0.070437</td>\n",
              "      <td>80.0</td>\n",
              "      <td>25.0</td>\n",
              "      <td>0.996335</td>\n",
              "      <td>8</td>\n",
              "    </tr>\n",
              "    <tr>\n",
              "      <th>4</th>\n",
              "      <td>0.056099</td>\n",
              "      <td>119.0</td>\n",
              "      <td>95.0</td>\n",
              "      <td>0.997385</td>\n",
              "      <td>0.054287</td>\n",
              "      <td>47.0</td>\n",
              "      <td>54.0</td>\n",
              "      <td>0.997365</td>\n",
              "      <td>87</td>\n",
              "    </tr>\n",
              "  </tbody>\n",
              "</table>\n",
              "</div>"
            ]
          },
          "metadata": {
            "tags": []
          },
          "execution_count": 23
        }
      ]
    },
    {
      "cell_type": "markdown",
      "metadata": {
        "id": "yykDWRwyTjXt"
      },
      "source": [
        "# train"
      ]
    },
    {
      "cell_type": "code",
      "metadata": {
        "colab": {
          "base_uri": "https://localhost:8080/"
        },
        "id": "Uvnd5Zr0kFk8",
        "outputId": "f452b78c-3272-42db-ae85-fcdd5fb255bf"
      },
      "source": [
        "model = create_model()\n",
        "model.compile(loss=\"binary_crossentropy\", optimizer = Adam(learning_rate=(0.001)), metrics=[METRICS])\n",
        "history = model.fit(x_train, y_train, epochs=5, verbose=1)"
      ],
      "execution_count": null,
      "outputs": [
        {
          "output_type": "stream",
          "text": [
            "Epoch 1/5\n",
            "969/969 [==============================] - 31s 23ms/step - loss: 0.1820 - fp: 1179.0000 - fn: 988.0000 - auc: 0.9793\n",
            "Epoch 2/5\n",
            "969/969 [==============================] - 21s 22ms/step - loss: 0.0966 - fp: 598.0000 - fn: 506.0000 - auc: 0.9935\n",
            "Epoch 3/5\n",
            "969/969 [==============================] - 21s 22ms/step - loss: 0.0759 - fp: 471.0000 - fn: 403.0000 - auc: 0.9959\n",
            "Epoch 4/5\n",
            "969/969 [==============================] - 21s 22ms/step - loss: 0.0585 - fp: 331.0000 - fn: 310.0000 - auc: 0.9972\n",
            "Epoch 5/5\n",
            "969/969 [==============================] - 22s 23ms/step - loss: 0.0471 - fp: 267.0000 - fn: 225.0000 - auc: 0.9979\n"
          ],
          "name": "stdout"
        }
      ]
    },
    {
      "cell_type": "code",
      "metadata": {
        "colab": {
          "base_uri": "https://localhost:8080/"
        },
        "id": "whSc856llo-i",
        "outputId": "846bec3a-0937-4315-e54b-959456150b3a"
      },
      "source": [
        "model.compile(loss=\"binary_crossentropy\", optimizer = Adam(learning_rate=(0.0001)), metrics=[METRICS])\n",
        "history = model.fit(x_train, y_train, epochs=6, verbose=1)"
      ],
      "execution_count": null,
      "outputs": [
        {
          "output_type": "stream",
          "text": [
            "Epoch 1/6\n",
            "969/969 [==============================] - 23s 22ms/step - loss: 0.0178 - fp: 362.0000 - fn: 302.0000 - auc: 0.9988\n",
            "Epoch 2/6\n",
            "969/969 [==============================] - 22s 22ms/step - loss: 0.0104 - fp: 48.0000 - fn: 45.0000 - auc: 0.9998\n",
            "Epoch 3/6\n",
            "969/969 [==============================] - 22s 22ms/step - loss: 0.0074 - fp: 44.0000 - fn: 30.0000 - auc: 0.9998\n",
            "Epoch 4/6\n",
            "969/969 [==============================] - 22s 22ms/step - loss: 0.0054 - fp: 25.0000 - fn: 15.0000 - auc: 0.9999\n",
            "Epoch 5/6\n",
            "969/969 [==============================] - 22s 22ms/step - loss: 0.0052 - fp: 21.0000 - fn: 26.0000 - auc: 0.9999\n",
            "Epoch 6/6\n",
            "969/969 [==============================] - 21s 22ms/step - loss: 0.0029 - fp: 15.0000 - fn: 8.0000 - auc: 0.9999\n"
          ],
          "name": "stdout"
        }
      ]
    },
    {
      "cell_type": "code",
      "metadata": {
        "id": "IgdFWVDrE0NN"
      },
      "source": [
        "imgs = []\n",
        "for i in range(len(df_test)):\n",
        "  img = ImageOps.autocontrast(open_png_or_jpeg(avia_test + df_test['filename'][i]).convert('RGB'), contrast)\n",
        "  img = np.asarray(img)/255\n",
        "  imgs.append(img)\n",
        "chosenmodel = model\n",
        "pred = chosenmodel.predict(np.array(imgs))\n",
        "df_test['sign'] = pred[:,0]\n",
        "time0 = round(time(), 0)\n",
        "df_test.to_csv(f'Google/test_planes{time0}.csv', index=False)\n",
        "model.save(f'Google/model{time0}.h5')"
      ],
      "execution_count": null,
      "outputs": []
    }
  ]
}